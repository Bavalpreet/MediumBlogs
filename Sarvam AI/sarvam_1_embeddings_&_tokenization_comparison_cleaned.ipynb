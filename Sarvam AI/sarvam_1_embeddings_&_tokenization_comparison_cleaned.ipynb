{
  "nbformat": 4,
  "nbformat_minor": 0,
  "metadata": {
    "colab": {
      "provenance": []
    },
    "kernelspec": {
      "name": "python3",
      "display_name": "Python 3"
    },
    "language_info": {
      "name": "python"
    }
  },
  "cells": [
    {
      "cell_type": "code",
      "source": [
        "from transformers import AutoTokenizer,AutoModel\n",
        "import os\n",
        "import numpy as np\n",
        "import torch\n",
        "import torch.nn.functional as F\n",
        "from sklearn.decomposition import PCA\n",
        "import matplotlib.pyplot as plt"
      ],
      "metadata": {
        "id": "NITAZD44ey3w"
      },
      "execution_count": 8,
      "outputs": []
    },
    {
      "cell_type": "code",
      "source": [
        "# Sample code-switching text (English + Hindi)\n",
        "code_switching_examples = [\n",
        "    \"I enjoy khana khaana and coding in Python.\",\n",
        "    \"Mujhe reading books pasand hai and I also like to code.\",\n",
        "    \"Let's go to the market and buy some sabzi aur fruits.\",\n",
        "    \"\u092e\u0948\u0902 \u0928\u0908 \u092d\u093e\u0937\u093e\u090f\u0901 \u0938\u0940\u0916\u0928\u093e \u092a\u0938\u0902\u0926 \u0915\u0930\u0924\u093e \u0939\u0942\u0901\",         # Hindi\n",
        "    \"I love learning \u0928\u0908 \u092d\u093e\u0937\u093e\u090f\u0901 \ud83d\ude03\"                # Hinglish code-mix with emoji\n",
        "]\n",
        "\n",
        "def generate_embeddings(texts, model_name=\"sarvamai/sarvam-1\", hf_token=None):\n",
        "    \"\"\"\n",
        "    Generate embeddings for code-switching text using Sarvam AI's sarvam-1 model from Hugging Face.\n",
        "\n",
        "    Args:\n",
        "        texts (list): List of code-switching text strings.\n",
        "        model_name (str): Hugging Face model name (e.g., sarvamai/sarvam-1).\n",
        "        hf_token (str, optional): Hugging Face API token for private models.\n",
        "\n",
        "    Returns:\n",
        "        list: List of embedding vectors.\n",
        "    \"\"\"\n",
        "    try:\n",
        "        # Load tokenizer and model with optional token for private repos\n",
        "        tokenizer = AutoTokenizer.from_pretrained(model_name, token=hf_token)\n",
        "\n",
        "        # Set padding token to eos_token if not already set\n",
        "        if tokenizer.pad_token is None:\n",
        "            tokenizer.pad_token = tokenizer.eos_token\n",
        "            print(f\"Set pad_token to eos_token: {tokenizer.pad_token}\")\n",
        "\n",
        "        model = AutoModel.from_pretrained(model_name, token=hf_token)\n",
        "\n",
        "        # Move model to GPU if available\n",
        "        device = torch.device(\"cuda\" if torch.cuda.is_available() else \"cpu\")\n",
        "        model = model.to(device)\n",
        "        model.eval()\n",
        "\n",
        "        embeddings = []\n",
        "        for text in texts:\n",
        "            # Tokenize input text\n",
        "            inputs = tokenizer(text, return_tensors=\"pt\", padding=True, truncation=True, max_length=512)\n",
        "            inputs = {key: val.to(device) for key, val in inputs.items()}\n",
        "\n",
        "            # Generate embeddings\n",
        "            with torch.no_grad():\n",
        "                outputs = model(**inputs)\n",
        "                # Use mean of token embeddings for sentence-level representation\n",
        "                embedding = outputs.last_hidden_state.mean(dim=1).squeeze().cpu().numpy()\n",
        "\n",
        "            embeddings.append(embedding)\n",
        "\n",
        "        return embeddings\n",
        "\n",
        "    except Exception as e:\n",
        "        print(f\"Error generating embeddings: {e}\")\n",
        "        return None\n",
        "\n",
        "def main():\n",
        "    # Specify the Sarvam AI model from Hugging Face\n",
        "    model_name = \"sarvamai/sarvam-1\"\n",
        "\n",
        "    # Get Hugging Face token from environment (optional, for private models)\n",
        "    hf_token = os.getenv(\"HF_TOKEN\")\n",
        "\n",
        "    print(f\"Generating embeddings using {model_name}...\")\n",
        "    embeddings = generate_embeddings(code_switching_examples, model_name, hf_token)\n",
        "\n",
        "    if embeddings is not None:\n",
        "        # Print results\n",
        "        for text, embedding in zip(code_switching_examples, embeddings):\n",
        "            print(f\"\\nText: {text}\")\n",
        "            print(f\"Embedding (first 5 values): {embedding[:5].tolist()}...\")\n",
        "            print(f\"Embedding length: {len(embedding)}\")\n",
        "    else:\n",
        "        print(\"Failed to generate embeddings.\")\n",
        "\n",
        "if __name__ == \"__main__\":\n",
        "    main()"
      ],
      "metadata": {
        "colab": {
          "base_uri": "https://localhost:8080/",
          "height": 857,
          "referenced_widgets": [
            "aae3aea774794abeadb3b9e48dfc50bf",
            "b0ab0bc8c73b4d49b63e70e69b5354fc",
            "a2d917c0d1624a238255ebbace1ebe08",
            "7aa7d40864874e89a6f4f5b3ac389e9f",
            "a2850ba1e45d4fd087efef00900d8933",
            "e0680f7b048347fbb78c32d15d010b4b",
            "efab7543d8074364a16d5c071911e541",
            "a573dd7fa6574e27b9bcef68569c7c3b",
            "59030ff09c1f44c892591ac992e27131",
            "79d143a43c024d17af096203a312234b",
            "823bb9328686446d9ff95afd97413cf0",
            "96f17acf3a224dc59c72290e734ea208",
            "09e707dce7094867aedd0923ba8b68be",
            "e460af271ab4403c9f79b75fb45ccccd",
            "952af1c66a4841a09149e7868176e6b0",
            "a08f1d70950b4bce8a64e1ac1c031051",
            "297956d229714a199e661609713688dc",
            "ff773cfbc02e46b2a0602008f2e9ced1",
            "b84f06164b0048758320d59339010b13",
            "cd3b263bec8b4dc4ab64d291e652256c",
            "f4887f217bbb4daaa7edee9ddd4d9fe4",
            "707512097aff47e9926e94ded6155f87",
            "d7068d20e4fe49889b482eb9ecc6e80c",
            "7a22789dbe054773bfdf0bb726b6f27a",
            "beb21eaf6df242df8ec3cfe59d9cef25",
            "30dfecd062d5403bb6c6004d92503fd4",
            "47e5fdfb620f46b4ad0a49010fb43572",
            "bad34c69ec894986b8000671a2410758",
            "da121170a1944f2c983cfbdb7c2b9f57",
            "39952537a75d47b094dc6f27c162a3d8",
            "d4cea768b36b405c975084bd8e35ee13",
            "a8c62218b15440628c0642558b3080d9",
            "3f637f0b79c44af6a746802dd7d19647",
            "cc37d66e987940ec92c15525e3944484",
            "d0e74ed3095b419d983451fb6a37d870",
            "4a2b1d76111c407ca383986a42292db2",
            "e461b88445d3470c9bab50be6935824b",
            "431b01a0224a48c38b282edbc7803a16",
            "35263dfb5aed4d5a804268714e3bcd7d",
            "5fe003c5961f4821817034b0448b4870",
            "bda51fc3728246ec9fdb8bfc7bea8067",
            "850035f15a45429ea870c40927416908",
            "51f7ba1bd97444b0a2ca107fc6b06564",
            "6baeb51247aa489d86d0852a69e37e82",
            "3ccb5fe1e3024597af6580c2be4416ee",
            "c40270a219b44e4b914acaad424b2860",
            "3172af9848a248db878b561f7be92d09",
            "d697498544a24fea9a8e2335aba4e571",
            "099e4eac9c674aa4ad51f54045b9c3a2",
            "e46e2a6b918749b5b389750efbe8f944",
            "1eeba33fa2074031ab85f5164ee82b6f",
            "da9ca093a5b24b10a07f3a1d8dbb9fc5",
            "cee7a7eabbc24359b265cd39b700b6f9",
            "548cef6a044544f895af5ba7c0be418a",
            "8c0ed3b785ca4ae9ab228263b288a0cb",
            "f87b96367c7140b298677bb9b1862fee",
            "2db5583abef14cfca7ea12b43ec3fd48",
            "95b445f1f40b47c880da997a0627fc2f",
            "fe8927410c184dd6a2e3b215ae9c6d64",
            "b51ef2b56b0845bda84a4748a29728bc",
            "1fcb2c5ee1e442468f77731e0405e891",
            "cfa5f1b8808f4d99a266b6c3d301b49b",
            "cc747fa565ef47f88e1df9574ebb9395",
            "75af8c85b0744573b2a88526cd2c48f4",
            "589746a05456442b9d11d3419308c073",
            "4e0d102c4a354fa8b47a15e9ef435783",
            "173ea5f7b7734115a06ba2b18e975af5",
            "0c79fd98dcbb449c938be7a623dbb243",
            "2bc10c49912d46cdb97590b30b8ec7bb",
            "adca0efd0d79473e850894409ecf6e86",
            "d0fb165d0b174e81997f6507cd058213",
            "1c7a767849e54af0a6741e104a5a4a32",
            "99745d662be54cbaa43942af300abe53",
            "3b294a85177345df957efc46988bca3a",
            "db51b0fd167c4bc9a7ca2e1c600afcf5",
            "9a49e004cbbb45d0a26eb29d39bea9fd",
            "699dfc057d6d4ee5a19c2efdcfe0304b",
            "496657ee73234254b7d7b84e81bee28c",
            "6f902709eca0405a9f422bc77e68e719",
            "8070aaabd75544839c5922ea50160d80",
            "4973fb7ab7f148ff8590b7a42e507d2c",
            "7cd789cd14c941f5ba0759343a5e5eb2",
            "40dc9ca858a54271bac6bbb63d9f2ca5",
            "7892409be1a54a4992f5592a2dfa8420",
            "9e0ec58e046440fab8fe1ac13e29bfd6",
            "8d2275ddb12b43c8be2776f1e42a1651",
            "f8d74cabcf414c6fb49284ef345bc299",
            "7d356a16807340ecbde16cb70881cbb1",
            "bf4c4d7e14e04f6f8813355953906764",
            "67ffe8c8002c45918bf2fe76a4fcb7a9",
            "0e664052812b4d01a9e46e1061f1c30a",
            "b81e7b71b82949ba8fb8f9cd0f6a47f5",
            "01162aeb8e544a9d864e302bbb51847b",
            "d3f66ede53e14a42a9f751f6c31ea036",
            "a1de2f8a91b948009639854838e594ec",
            "8fab2abd96364f20be5fcac76b645969",
            "276d09f5bf1a4c31b52cd9f728a74a17",
            "f07ca44b81bd43e089d328b41a003008",
            "12fc2c6bd8754161a960f44fc6126d03",
            "ecedb63b27774178869a41af13283e80",
            "96784efc162d400aae1f5305bd9d6cc1",
            "59a0d1bdd6144fa0ae495a7b827a1f20",
            "b789a350ccd741e0951b859978d189df",
            "f78f28feb59340b4b2d892eb32f57bc2",
            "56676988ac894ea187887192572318cf",
            "1767a35b77354e428232a84df2b6b93b",
            "9dd19d80ad4d4dbd95e28d21076b6421",
            "820bb2c3ff1f473bb513a6ed8c318ab2",
            "1b62bce157594323841c6e209ebcaa22",
            "331592e343634f6fbdc12b125bbe26f9"
          ]
        },
        "id": "-lvUB2-a2p3M",
        "outputId": "edde1cbf-7fa4-4f2c-a6aa-7b246bf4dfb1"
      },
      "execution_count": 1,
      "outputs": [
        {
          "output_type": "stream",
          "name": "stdout",
          "text": [
            "Generating embeddings using sarvamai/sarvam-1...\n"
          ]
        },
        {
          "output_type": "stream",
          "name": "stderr",
          "text": [
            "/usr/local/lib/python3.11/dist-packages/huggingface_hub/utils/_auth.py:94: UserWarning: \n",
            "The secret `HF_TOKEN` does not exist in your Colab secrets.\n",
            "To authenticate with the Hugging Face Hub, create a token in your settings tab (https://huggingface.co/settings/tokens), set it as secret in your Google Colab and restart your session.\n",
            "You will be able to reuse this secret in all of your notebooks.\n",
            "Please note that authentication is recommended but still optional to access public models or datasets.\n",
            "  warnings.warn(\n"
          ]
        },
        {
          "output_type": "display_data",
          "data": {
            "text/plain": [
              "tokenizer_config.json:   0%|          | 0.00/775k [00:00<?, ?B/s]"
            ],
            "application/vnd.jupyter.widget-view+json": {
              "version_major": 2,
              "version_minor": 0,
              "model_id": "aae3aea774794abeadb3b9e48dfc50bf"
            }
          },
          "metadata": {}
        },
        {
          "output_type": "display_data",
          "data": {
            "text/plain": [
              "tokenizer.model:   0%|          | 0.00/1.94M [00:00<?, ?B/s]"
            ],
            "application/vnd.jupyter.widget-view+json": {
              "version_major": 2,
              "version_minor": 0,
              "model_id": "96f17acf3a224dc59c72290e734ea208"
            }
          },
          "metadata": {}
        },
        {
          "output_type": "display_data",
          "data": {
            "text/plain": [
              "tokenizer.json:   0%|          | 0.00/8.51M [00:00<?, ?B/s]"
            ],
            "application/vnd.jupyter.widget-view+json": {
              "version_major": 2,
              "version_minor": 0,
              "model_id": "d7068d20e4fe49889b482eb9ecc6e80c"
            }
          },
          "metadata": {}
        },
        {
          "output_type": "display_data",
          "data": {
            "text/plain": [
              "special_tokens_map.json:   0%|          | 0.00/414 [00:00<?, ?B/s]"
            ],
            "application/vnd.jupyter.widget-view+json": {
              "version_major": 2,
              "version_minor": 0,
              "model_id": "cc37d66e987940ec92c15525e3944484"
            }
          },
          "metadata": {}
        },
        {
          "output_type": "stream",
          "name": "stdout",
          "text": [
            "Set pad_token to eos_token: </s>\n"
          ]
        },
        {
          "output_type": "display_data",
          "data": {
            "text/plain": [
              "config.json:   0%|          | 0.00/717 [00:00<?, ?B/s]"
            ],
            "application/vnd.jupyter.widget-view+json": {
              "version_major": 2,
              "version_minor": 0,
              "model_id": "3ccb5fe1e3024597af6580c2be4416ee"
            }
          },
          "metadata": {}
        },
        {
          "output_type": "display_data",
          "data": {
            "text/plain": [
              "model.safetensors.index.json:   0%|          | 0.00/21.0k [00:00<?, ?B/s]"
            ],
            "application/vnd.jupyter.widget-view+json": {
              "version_major": 2,
              "version_minor": 0,
              "model_id": "f87b96367c7140b298677bb9b1862fee"
            }
          },
          "metadata": {}
        },
        {
          "output_type": "display_data",
          "data": {
            "text/plain": [
              "Fetching 2 files:   0%|          | 0/2 [00:00<?, ?it/s]"
            ],
            "application/vnd.jupyter.widget-view+json": {
              "version_major": 2,
              "version_minor": 0,
              "model_id": "173ea5f7b7734115a06ba2b18e975af5"
            }
          },
          "metadata": {}
        },
        {
          "output_type": "display_data",
          "data": {
            "text/plain": [
              "model-00001-of-00002.safetensors:   0%|          | 0.00/4.77G [00:00<?, ?B/s]"
            ],
            "application/vnd.jupyter.widget-view+json": {
              "version_major": 2,
              "version_minor": 0,
              "model_id": "496657ee73234254b7d7b84e81bee28c"
            }
          },
          "metadata": {}
        },
        {
          "output_type": "display_data",
          "data": {
            "text/plain": [
              "model-00002-of-00002.safetensors:   0%|          | 0.00/279M [00:00<?, ?B/s]"
            ],
            "application/vnd.jupyter.widget-view+json": {
              "version_major": 2,
              "version_minor": 0,
              "model_id": "bf4c4d7e14e04f6f8813355953906764"
            }
          },
          "metadata": {}
        },
        {
          "output_type": "display_data",
          "data": {
            "text/plain": [
              "Loading checkpoint shards:   0%|          | 0/2 [00:00<?, ?it/s]"
            ],
            "application/vnd.jupyter.widget-view+json": {
              "version_major": 2,
              "version_minor": 0,
              "model_id": "ecedb63b27774178869a41af13283e80"
            }
          },
          "metadata": {}
        },
        {
          "output_type": "stream",
          "name": "stdout",
          "text": [
            "\n",
            "Text: I enjoy khana khaana and coding in Python.\n",
            "Embedding (first 5 values): [-0.34796345233917236, 0.1016358807682991, -0.25775259733200073, -0.31446292996406555, -0.3932451605796814]...\n",
            "Embedding length: 2048\n",
            "\n",
            "Text: Mujhe reading books pasand hai and I also like to code.\n",
            "Embedding (first 5 values): [0.058487337082624435, 0.45004722476005554, 0.03068058378994465, -0.36254966259002686, -0.2438238263130188]...\n",
            "Embedding length: 2048\n",
            "\n",
            "Text: Let's go to the market and buy some sabzi aur fruits.\n",
            "Embedding (first 5 values): [-0.16554908454418182, -0.01619197428226471, -0.5656647682189941, -0.5728837251663208, -0.7021635174751282]...\n",
            "Embedding length: 2048\n",
            "\n",
            "Text: \u092e\u0948\u0902 \u0928\u0908 \u092d\u093e\u0937\u093e\u090f\u0901 \u0938\u0940\u0916\u0928\u093e \u092a\u0938\u0902\u0926 \u0915\u0930\u0924\u093e \u0939\u0942\u0901\n",
            "Embedding (first 5 values): [-0.05605747178196907, -0.12015876919031143, -0.4951443672180176, -0.4803628921508789, 0.44875961542129517]...\n",
            "Embedding length: 2048\n",
            "\n",
            "Text: I love learning \u0928\u0908 \u092d\u093e\u0937\u093e\u090f\u0901 \ud83d\ude03\n",
            "Embedding (first 5 values): [-0.10177909582853317, -0.049835700541734695, -0.5933712720870972, -0.037148039788007736, -0.22373013198375702]...\n",
            "Embedding length: 2048\n"
          ]
        }
      ]
    },
    {
      "cell_type": "markdown",
      "source": [
        "#testing embedding similarity"
      ],
      "metadata": {
        "id": "7m0PkxWyNFcb"
      }
    },
    {
      "cell_type": "code",
      "source": [
        "# Define test sentences\n",
        "texts = [\n",
        "    \"I love learning new languages.\",  # English\n",
        "    \"\u092e\u0948\u0902 \u0928\u0908 \u092d\u093e\u0937\u093e\u090f\u0901 \u0938\u0940\u0916\u0928\u093e \u092a\u0938\u0902\u0926 \u0915\u0930\u0924\u093e \u0939\u0942\u0901\",  # Hindi\n",
        "    \"\u092e\u0948\u0902 love learning \u0928\u0908 languages \u092c\u0939\u0941\u0924 pasand \u0915\u0930\u0924\u093e \u0939\u0942\u0901\"  # Hinglish\n",
        "]\n",
        "\n",
        "def generate_embeddings(texts, model_name=\"sarvamai/sarvam-1\", hf_token=None):\n",
        "    \"\"\"\n",
        "    Generate embeddings for a list of texts using Sarvam AI's sarvam-1 model.\n",
        "\n",
        "    Args:\n",
        "        texts (list): List of text strings (English, Hindi, Hinglish).\n",
        "        model_name (str): Hugging Face model name (default: sarvamai/sarvam-1).\n",
        "        hf_token (str, optional): Hugging Face API token for private models.\n",
        "\n",
        "    Returns:\n",
        "        torch.Tensor: Embeddings matrix of shape (num_texts, hidden_size).\n",
        "    \"\"\"\n",
        "    try:\n",
        "        # Load tokenizer and model\n",
        "        tokenizer = AutoTokenizer.from_pretrained(model_name, token=hf_token)\n",
        "        if tokenizer.pad_token is None:\n",
        "            tokenizer.pad_token = tokenizer.eos_token\n",
        "            print(f\"Set pad_token to eos_token: {tokenizer.pad_token}\")\n",
        "        model = AutoModel.from_pretrained(model_name, token=hf_token)\n",
        "\n",
        "        # Move model to GPU if available\n",
        "        device = torch.device(\"cuda\" if torch.cuda.is_available() else \"cpu\")\n",
        "        model = model.to(device)\n",
        "        model.eval()\n",
        "\n",
        "        # Tokenize and generate embeddings\n",
        "        inputs = tokenizer(texts, return_tensors=\"pt\", padding=True, truncation=True, max_length=512)\n",
        "        inputs = {key: val.to(device) for key, val in inputs.items()}\n",
        "\n",
        "        with torch.no_grad():\n",
        "            outputs = model(**inputs)\n",
        "            # Mean-pool token embeddings for sentence-level representation\n",
        "            embeddings = outputs.last_hidden_state.mean(dim=1)\n",
        "\n",
        "        return embeddings\n",
        "\n",
        "    except Exception as e:\n",
        "        print(f\"Error generating embeddings: {e}\")\n",
        "        return None\n",
        "\n",
        "def test_embedding_similarity(texts, model_name=\"sarvamai/sarvam-1\", hf_token=None):\n",
        "    \"\"\"\n",
        "    Test cosine similarity between embeddings of multilingual sentences.\n",
        "\n",
        "    Args:\n",
        "        texts (list): List of text strings (English, Hindi, Hinglish).\n",
        "        model_name (str): Hugging Face model name.\n",
        "        hf_token (str, optional): Hugging Face API token.\n",
        "\n",
        "    Returns:\n",
        "        dict: Contains embedding shape, hidden_size, and cosine similarities.\n",
        "    \"\"\"\n",
        "    try:\n",
        "        # Generate embeddings\n",
        "        embeddings = generate_embeddings(texts, model_name, hf_token)\n",
        "        if embeddings is None:\n",
        "            return None\n",
        "\n",
        "        # Get hidden size from model configuration\n",
        "        model = AutoModel.from_pretrained(model_name, token=hf_token)\n",
        "        hidden_size = model.config.hidden_size\n",
        "\n",
        "        # Compute cosine similarities\n",
        "        cos_en_hi = F.cosine_similarity(embeddings[0], embeddings[1], dim=0).item()\n",
        "        cos_en_hing = F.cosine_similarity(embeddings[0], embeddings[2], dim=0).item()\n",
        "        cos_hi_hing = F.cosine_similarity(embeddings[1], embeddings[2], dim=0).item()\n",
        "\n",
        "        # Verify embedding shape\n",
        "        embedding_shape = embeddings.shape\n",
        "\n",
        "        return {\n",
        "            \"embedding_shape\": embedding_shape,\n",
        "            \"hidden_size\": hidden_size,\n",
        "            \"cosine_sim_en_hi\": cos_en_hi,\n",
        "            \"cosine_sim_en_hing\": cos_en_hing,\n",
        "            \"cosine_sim_hi_hing\": cos_hi_hing\n",
        "        }\n",
        "\n",
        "    except Exception as e:\n",
        "        print(f\"Error testing embedding similarity: {e}\")\n",
        "        return None\n",
        "\n",
        "def main():\n",
        "    model_name = \"sarvamai/sarvam-1\"\n",
        "    hf_token = os.getenv(\"HF_TOKEN\")\n",
        "\n",
        "    print(f\"Testing embedding similarity using {model_name}...\")\n",
        "    result = test_embedding_similarity(texts, model_name, hf_token)\n",
        "\n",
        "    if result is not None:\n",
        "        print(f\"\\nResults:\")\n",
        "        print(f\"  Cosine similarity (English-Hindi): {result['cosine_sim_en_hi']:.4f}\")\n",
        "        print(f\"  Cosine similarity (English-Hinglish): {result['cosine_sim_en_hing']:.4f}\")\n",
        "        print(f\"  Cosine similarity (Hindi-Hinglish): {result['cosine_sim_hi_hing']:.4f}\")\n",
        "\n",
        "        # Interpret results\n",
        "        if result['cosine_sim_en_hi'] > 0.7 and result['cosine_sim_en_hing'] > 0.7:\n",
        "            print(\"  Success: Embeddings for English, Hindi, and Hinglish are close in vector space (cosine > 0.7).\")\n",
        "        else:\n",
        "            print(\"  Warning: Embeddings may not be as close as expected (cosine < 0.7).\")\n",
        "    else:\n",
        "        print(\"Failed to test embedding similarity.\")\n",
        "\n",
        "if __name__ == \"__main__\":\n",
        "    main()"
      ],
      "metadata": {
        "colab": {
          "base_uri": "https://localhost:8080/",
          "height": 224,
          "referenced_widgets": [
            "c72b229fc416443b827caeb90b0b0bd2",
            "fd2f7579b3d549b6aeba267d90bd466e",
            "48c0c0113b8845c0acfe866578846e32",
            "315b10d561554686894817efe7a3a28e",
            "e34aa217d1db479cb50c384ab4b7093b",
            "9670441087474a46898cd6e3db51a9f8",
            "b6993165aacf4b788a4bc927ed1ca8f6",
            "c46b29468a6d48df9abb0ab0ce32d7e2",
            "94c5696123c246a8b21997ebaed4f1f3",
            "6cbe6cfe55d24179bab44e9b3157ec30",
            "211906368c7146f8bfdaf5b596b0b42c",
            "8a525182a0234828bb538e3dbe9151a0",
            "240551710fb04558bbc316fd2934bbb5",
            "f31224720ffa4c17935649b7ff28fe43",
            "6561c274ee5e44f1b5a5e63dfab24172",
            "7f938459f49847fd9345e5db95f30eb8",
            "46d7a3dd14c34c2482748117afbc3211",
            "16acba8a24f2421588bc185bf809c52d",
            "f64a357c5f6c48e98be174547051661f",
            "59e276a5581a4f83bcea1fe8b0a6d1c5",
            "671e33b318834c62af4687d3448a80bf",
            "44415d4a46f6498f9f9fde4d5f2f523d"
          ]
        },
        "id": "fwR7yS3sN8nL",
        "outputId": "3e70b1a8-e814-492a-edbd-e2f1fe1713c0"
      },
      "execution_count": 2,
      "outputs": [
        {
          "output_type": "stream",
          "name": "stdout",
          "text": [
            "Testing embedding similarity using sarvamai/sarvam-1...\n",
            "Set pad_token to eos_token: </s>\n"
          ]
        },
        {
          "output_type": "display_data",
          "data": {
            "text/plain": [
              "Loading checkpoint shards:   0%|          | 0/2 [00:00<?, ?it/s]"
            ],
            "application/vnd.jupyter.widget-view+json": {
              "version_major": 2,
              "version_minor": 0,
              "model_id": "c72b229fc416443b827caeb90b0b0bd2"
            }
          },
          "metadata": {}
        },
        {
          "output_type": "display_data",
          "data": {
            "text/plain": [
              "Loading checkpoint shards:   0%|          | 0/2 [00:00<?, ?it/s]"
            ],
            "application/vnd.jupyter.widget-view+json": {
              "version_major": 2,
              "version_minor": 0,
              "model_id": "8a525182a0234828bb538e3dbe9151a0"
            }
          },
          "metadata": {}
        },
        {
          "output_type": "stream",
          "name": "stdout",
          "text": [
            "\n",
            "Results:\n",
            "  Cosine similarity (English-Hindi): 0.5653\n",
            "  Cosine similarity (English-Hinglish): 0.8144\n",
            "  Cosine similarity (Hindi-Hinglish): 0.9105\n",
            "  Warning: Embeddings may not be as close as expected (cosine < 0.7).\n"
          ]
        }
      ]
    },
    {
      "cell_type": "markdown",
      "source": [
        "##sarvamai/sarvam-1 **VS**  bert-base-uncased **VS** sentence-transformers/paraphrase-multilingual-MiniLM-L12-v2"
      ],
      "metadata": {
        "id": "2F_BcgbcMgCs"
      }
    },
    {
      "cell_type": "code",
      "source": [
        "# Define test sentences\n",
        "texts = [\n",
        "    \"I love learning new languages.\",  # English\n",
        "    \"\u092e\u0948\u0902 \u0928\u0908 \u092d\u093e\u0937\u093e\u090f\u0901 \u0938\u0940\u0916\u0928\u093e \u092a\u0938\u0902\u0926 \u0915\u0930\u0924\u093e \u0939\u0942\u0901\",  # Hindi\n",
        "    \"\u092e\u0948\u0902 love learning \u0928\u0908 languages \u092c\u0939\u0941\u0924 pasand \u0915\u0930\u0924\u093e \u0939\u0942\u0901\"  # Hinglish\n",
        "]\n",
        "\n",
        "def generate_embeddings(texts, model_name=\"sarvamai/sarvam-1\", hf_token=None):\n",
        "    \"\"\"\n",
        "    Generate embeddings for a list of texts using the specified model.\n",
        "\n",
        "    Args:\n",
        "        texts (list): List of text strings (English, Hindi, Hinglish).\n",
        "        model_name (str): Hugging Face model name.\n",
        "        hf_token (str, optional): Hugging Face API token for private models.\n",
        "\n",
        "    Returns:\n",
        "        tuple: (embeddings, hidden_size) or (None, None) if error occurs.\n",
        "    \"\"\"\n",
        "    try:\n",
        "        # Load tokenizer and model\n",
        "        tokenizer = AutoTokenizer.from_pretrained(model_name, token=hf_token)\n",
        "        if \"sarvam\" in model_name and tokenizer.pad_token is None:\n",
        "            tokenizer.pad_token = tokenizer.eos_token\n",
        "            print(f\"Set pad_token to eos_token for {model_name}: {tokenizer.pad_token}\")\n",
        "        model = AutoModel.from_pretrained(model_name, token=hf_token)\n",
        "\n",
        "        # Get hidden size from model configuration\n",
        "        hidden_size = model.config.hidden_size\n",
        "\n",
        "        # Move model to GPU if available\n",
        "        device = torch.device(\"cuda\" if torch.cuda.is_available() else \"cpu\")\n",
        "        model = model.to(device)\n",
        "        model.eval()\n",
        "\n",
        "        # Tokenize and generate embeddings\n",
        "        inputs = tokenizer(texts, return_tensors=\"pt\", padding=True, truncation=True, max_length=512)\n",
        "        inputs = {key: val.to(device) for key, val in inputs.items()}\n",
        "\n",
        "        with torch.no_grad():\n",
        "            outputs = model(**inputs)\n",
        "            # Mean-pool token embeddings for sentence-level representation\n",
        "            embeddings = outputs.last_hidden_state.mean(dim=1)\n",
        "\n",
        "        return embeddings, hidden_size\n",
        "\n",
        "    except Exception as e:\n",
        "        print(f\"Error generating embeddings for {model_name}: {e}\")\n",
        "        return None, None\n",
        "\n",
        "def compute_cosine_similarities(embeddings):\n",
        "    \"\"\"\n",
        "    Compute cosine similarities between embeddings of English, Hindi, and Hinglish sentences.\n",
        "\n",
        "    Args:\n",
        "        embeddings (torch.Tensor): Embeddings matrix of shape (num_texts, hidden_size).\n",
        "\n",
        "    Returns:\n",
        "        dict: Cosine similarity scores for English-Hindi, English-Hinglish, Hindi-Hinglish.\n",
        "    \"\"\"\n",
        "    cos_en_hi = F.cosine_similarity(embeddings[0], embeddings[1], dim=0).item()\n",
        "    cos_en_hing = F.cosine_similarity(embeddings[0], embeddings[2], dim=0).item()\n",
        "    cos_hi_hing = F.cosine_similarity(embeddings[1], embeddings[2], dim=0).item()\n",
        "\n",
        "    return {\n",
        "        \"cosine_sim_en_hi\": cos_en_hi,\n",
        "        \"cosine_sim_en_hing\": cos_en_hing,\n",
        "        \"cosine_sim_hi_hing\": cos_hi_hing\n",
        "    }\n",
        "\n",
        "def main():\n",
        "    models = [\n",
        "        (\"sarvamai/sarvam-1\", \"Sarvam-1 (Indic-tuned multilingual)\"),\n",
        "        (\"bert-base-uncased\", \"BERT (English monolingual)\"),\n",
        "        (\"sentence-transformers/paraphrase-multilingual-MiniLM-L12-v2\", \"MiniLM (generic multilingual)\")\n",
        "    ]\n",
        "    hf_token = os.getenv(\"HF_TOKEN\")\n",
        "\n",
        "    for model_name, model_desc in models:\n",
        "        print(f\"\\nTesting embeddings with {model_desc}...\")\n",
        "        embeddings, hidden_size = generate_embeddings(texts, model_name, hf_token)\n",
        "\n",
        "        if embeddings is not None:\n",
        "            # Confirm embedding shape and hidden size\n",
        "            print(f\"  Embedding shape: {embeddings.shape}\")\n",
        "            print(f\"  Model hidden_size: {hidden_size}\")\n",
        "\n",
        "            # Compute cosine similarities\n",
        "            similarities = compute_cosine_similarities(embeddings)\n",
        "\n",
        "            # Print results\n",
        "            print(f\"  Cosine similarity (English-Hindi): {similarities['cosine_sim_en_hi']:.4f}\")\n",
        "            print(f\"  Cosine similarity (English-Hinglish): {similarities['cosine_sim_en_hing']:.4f}\")\n",
        "            print(f\"  Cosine similarity (Hindi-Hinglish): {similarities['cosine_sim_hi_hing']:.4f}\")\n",
        "\n",
        "            # Interpret results\n",
        "            if similarities['cosine_sim_en_hi'] > 0.7 and similarities['cosine_sim_en_hing'] > 0.7:\n",
        "                print(f\"  Success: {model_desc} captures semantic alignment (cosine > 0.7).\")\n",
        "            else:\n",
        "                print(f\"  Warning: {model_desc} may not capture semantic alignment well (cosine < 0.7).\")\n",
        "        else:\n",
        "            print(f\"  Failed to generate embeddings for {model_desc}.\")\n",
        "\n",
        "if __name__ == \"__main__\":\n",
        "    main()"
      ],
      "metadata": {
        "colab": {
          "base_uri": "https://localhost:8080/",
          "height": 943,
          "referenced_widgets": [
            "d2bfe48059514f1091ea1526a2cbf587",
            "0fc1d44ebe7c418ca5f83df1d234ac94",
            "4cc1c9b91bb14369bad0ab3303773ca9",
            "d0f9b50defdc4838b77eb070db375694",
            "0dc181fce9df46388a78902152db2083",
            "217aece5dbd549a1896e103a2c5df19e",
            "49ead5acfd0341f489280fee599d5b86",
            "dc855d87d5b24ba0b7f8f152fb02c429",
            "82859d1de9dc4533adde77b53907fdca",
            "d4ce0aab70774b3aa50a56545a616766",
            "b26c58645397430aafeea630a49c0eac",
            "381f827dcf8643a88dceafeaa9ded7e0",
            "fcaaeb06541e400a8a80d59ac5172291",
            "71070cdeb8084c97814067447c3c9c27",
            "0c01daad09ad4d589e303d2ac702fb1b",
            "ddd654448a144f029197ce648141b9e4",
            "d50d36fc4ae9443c8c25a900fb531588",
            "2fcb50ad321342f199f42d811419d86e",
            "a9fe5afedd904f25a1c3ee497148a202",
            "7598d73659fd4d50b6d00c44be348a8d",
            "0e5a5442617c460e93f7f2f46989b5fc",
            "7e0b4160ee5e43808c5d2e9dc3d20ae0",
            "ad83f46997844f1daf40f9cfafe0317d",
            "00cd3972479a4d6f9418ac919e6b3cc7",
            "87d1bfcd0f9841f4a238ca40a5bd90c7",
            "f193bfa5b1034ffda0f2244659e61c0f",
            "48122db28dc8444d8433c997668f06ac",
            "003cec0c81454dc581eceb0a819a77c8",
            "00eef1bb305643f8a0315d7753a55c4b",
            "a8d74bb1ef244e29982afaa9c7cfeab7",
            "1a472c5de92e4689b9f3d33040775183",
            "9e7a61d397b444b8ad9212981ee12a9b",
            "5a3e1b3e3291441ca205c72abecd4adb",
            "f243f6b9a0594584ab6a2225ba54c244",
            "075f4245b19b4e40b67002f4017d0f61",
            "f294a5a919dc4854b21ba2f37f05467d",
            "fdb23af36a4446728c86ad13b4f1f0ba",
            "4ef4dcf412aa474b8e3d5458a1fcbb7e",
            "eb7a56c7c3ba4c2eac0206564a29cb90",
            "0f6a60a533c9452e81c29e818653bd25",
            "de4fed9697e847b6a420998f806922f8",
            "5122dbf0d865490e9b33f7300a690713",
            "f81e260195214d54bf176656c1f8fda7",
            "b88ffbc8eddc410db0545ec7c665b4f7",
            "bb279b926ca143cb83474d82a78382c5",
            "f93e5c5fd8b24a3eb5205ba031c49538",
            "2a9330bb542d46bc95343d9e7b29ddf8",
            "3b86e506354f403d8dccc8e89724325d",
            "80d4d0e8ca7d42a3a02c7fb4a16f51fb",
            "55c2033cdc5e49fcbfda01991ca3b505",
            "aab005b87c43494496bb4d50f922b33b",
            "848c7cde31f34ea7a4cab7a2179098f0",
            "13ef0eba9ca14bb2804752a713ce8419",
            "47dcb7fcb5c940e1b6f32786c11077c2",
            "2e6e119412514df0b3877471b3accec6",
            "06927686fe324170a9f331eb56746bd2",
            "64f369160f9449aaa338739b778d514b",
            "473aea57a0184316b8faef22a4803b0e",
            "4a2b9285960b40f0be9c94eb6aa7bcbf",
            "d2b02613d66643b1944b931c65effa17",
            "c75f8f7a40eb49ffa3cdf7d52745c7e6",
            "e2e78874e03a4995904f373e3e84e15a",
            "9349a281e29a4a4aaf21047c5270a711",
            "9c10c6f9dcf14ca5af21952cbb05d2e7",
            "4ca3eb1834ee4cfaa0f037d7beb356d0",
            "cbcc3d20c4a941709b9ea0013051e651",
            "b8167078a8484787925856962ac117a1",
            "21a41bed7dcd478f8aca2220b9e36cf2",
            "3b7ace3f21f148559b05b12430dbd21a",
            "349df1d1218b4c109ca4af72fea56f52",
            "8d07ebdef5d94cba9872eeb3968b8ebe",
            "3210c2a913a54eca839b5c17b6c86d50",
            "f1d16e7fa8824d948a3b10abfc483725",
            "23207311dd774c969e7cca904fc130d0",
            "88477cb7085942a5b388eb6f79f7ebdb",
            "d47b871ccc5440b0b426da662183200c",
            "321a47400a434c8cb25c9934740d3db5",
            "c430f2589d7b4580a9f78f1e705ca2dc",
            "1867b61d31374c379e84107459136c37",
            "0be53a7d2b1548cc83746b76f0641d3a",
            "e7185029a82447b1814a76e7a036e6a4",
            "88ee16837cc44bd5ab6a8c888d45a82a",
            "d9fd0e0c79cd4f88ae238489efd1e416",
            "ac85f50842a24485b8a6aa55d3f8d555",
            "f0b80b9440c84a2e8157a83bd729633d",
            "d1560a0f4a884f0d8f0b0fd633a2adaf",
            "7c0fdaa2706d4304b3b63a831f2179f2",
            "0a321e5c616d4695aa17169f9e273ecf",
            "4df78392d40b4d8c8ed496ef116d75ce",
            "b52f9cbcdcb844c99a3a96efdce19604",
            "70bfdfb2995e495b9da9e18e3660e2f0",
            "58298f4fb7f94e189d90321ec90d0d8c",
            "1dbc4beb331c4dd080039f9d8b848de7",
            "ecc49c6d363f4a00bffa1624c64c907c",
            "c76d7aae266e4d8592621081904abf5b",
            "a21ab50bda5e496586328457cca3fa4b",
            "3964f2b566e641698ca0f745f39fdbed",
            "e0b576ab7e9a4c4db581df562124c09b",
            "473750987d7e4cb39b807b75f3461bef",
            "690c14a8c94b48259d00b9a8ac363466",
            "09d80c5889a649208c96a9992d65b0c8",
            "b4ef8adb14de473f94dbcca74669a553",
            "9e0870a0e71a4b5e815fd3a59388da0e",
            "c0f93b8a8dba4447b23b7dd080bbf2c9",
            "76b7d24969a04eeb95bbd7066f6d2622",
            "fcc2bace3c084e58847023d18995d40c",
            "8d141025a36b469086aec80c0dd2931c",
            "a1e0818ef4e74f6caff9ea7a7f4d9de7",
            "d6bdf9eee6554c6eb097518149dd4d2d",
            "ffabe0db31604e90b1c8d266b830500a",
            "d7ceb914dc6042b3abfb1f9a27c26e96",
            "e783852693464cd093dffc4f48cef72b",
            "dfc328e1347c463fb9e801be62138df5",
            "9fc1a19023dc47e8bc0ac258a16f01a8",
            "05fd1eaa63bd4d71bac4cfadc63f7146",
            "2c87704901984dd780a80e08252ceb1c",
            "4835866bd7aa4e268e6ba61e8a4036aa",
            "4a80818d5735420ba2d304ed33c926da",
            "ec9534b03dae47019cf8a23cb2eeb446",
            "2df517b064de4ec3984fc8a0621abdb1",
            "4277ac80bc37484cbca4fb2c6ac894ac"
          ]
        },
        "id": "_u0Y-7F3TbsI",
        "outputId": "130080fa-5382-4135-b582-23061b2b6f38"
      },
      "execution_count": 5,
      "outputs": [
        {
          "output_type": "stream",
          "name": "stdout",
          "text": [
            "\n",
            "Testing embeddings with Sarvam-1 (Indic-tuned multilingual)...\n",
            "Set pad_token to eos_token for sarvamai/sarvam-1: </s>\n"
          ]
        },
        {
          "output_type": "display_data",
          "data": {
            "text/plain": [
              "Loading checkpoint shards:   0%|          | 0/2 [00:00<?, ?it/s]"
            ],
            "application/vnd.jupyter.widget-view+json": {
              "version_major": 2,
              "version_minor": 0,
              "model_id": "d2bfe48059514f1091ea1526a2cbf587"
            }
          },
          "metadata": {}
        },
        {
          "output_type": "stream",
          "name": "stdout",
          "text": [
            "  Embedding shape: torch.Size([3, 2048])\n",
            "  Model hidden_size: 2048\n",
            "  Cosine similarity (English-Hindi): 0.5653\n",
            "  Cosine similarity (English-Hinglish): 0.8144\n",
            "  Cosine similarity (Hindi-Hinglish): 0.9105\n",
            "  Warning: Sarvam-1 (Indic-tuned multilingual) may not capture semantic alignment well (cosine < 0.7).\n",
            "\n",
            "Testing embeddings with BERT (English monolingual)...\n"
          ]
        },
        {
          "output_type": "display_data",
          "data": {
            "text/plain": [
              "tokenizer_config.json:   0%|          | 0.00/48.0 [00:00<?, ?B/s]"
            ],
            "application/vnd.jupyter.widget-view+json": {
              "version_major": 2,
              "version_minor": 0,
              "model_id": "381f827dcf8643a88dceafeaa9ded7e0"
            }
          },
          "metadata": {}
        },
        {
          "output_type": "display_data",
          "data": {
            "text/plain": [
              "config.json:   0%|          | 0.00/570 [00:00<?, ?B/s]"
            ],
            "application/vnd.jupyter.widget-view+json": {
              "version_major": 2,
              "version_minor": 0,
              "model_id": "ad83f46997844f1daf40f9cfafe0317d"
            }
          },
          "metadata": {}
        },
        {
          "output_type": "display_data",
          "data": {
            "text/plain": [
              "vocab.txt:   0%|          | 0.00/232k [00:00<?, ?B/s]"
            ],
            "application/vnd.jupyter.widget-view+json": {
              "version_major": 2,
              "version_minor": 0,
              "model_id": "f243f6b9a0594584ab6a2225ba54c244"
            }
          },
          "metadata": {}
        },
        {
          "output_type": "display_data",
          "data": {
            "text/plain": [
              "tokenizer.json:   0%|          | 0.00/466k [00:00<?, ?B/s]"
            ],
            "application/vnd.jupyter.widget-view+json": {
              "version_major": 2,
              "version_minor": 0,
              "model_id": "bb279b926ca143cb83474d82a78382c5"
            }
          },
          "metadata": {}
        },
        {
          "output_type": "stream",
          "name": "stderr",
          "text": [
            "Xet Storage is enabled for this repo, but the 'hf_xet' package is not installed. Falling back to regular HTTP download. For better performance, install the package with: `pip install huggingface_hub[hf_xet]` or `pip install hf_xet`\n",
            "WARNING:huggingface_hub.file_download:Xet Storage is enabled for this repo, but the 'hf_xet' package is not installed. Falling back to regular HTTP download. For better performance, install the package with: `pip install huggingface_hub[hf_xet]` or `pip install hf_xet`\n"
          ]
        },
        {
          "output_type": "display_data",
          "data": {
            "text/plain": [
              "model.safetensors:   0%|          | 0.00/440M [00:00<?, ?B/s]"
            ],
            "application/vnd.jupyter.widget-view+json": {
              "version_major": 2,
              "version_minor": 0,
              "model_id": "06927686fe324170a9f331eb56746bd2"
            }
          },
          "metadata": {}
        },
        {
          "output_type": "stream",
          "name": "stdout",
          "text": [
            "  Embedding shape: torch.Size([3, 768])\n",
            "  Model hidden_size: 768\n",
            "  Cosine similarity (English-Hindi): 0.2755\n",
            "  Cosine similarity (English-Hinglish): 0.4798\n",
            "  Cosine similarity (Hindi-Hinglish): 0.8828\n",
            "  Warning: BERT (English monolingual) may not capture semantic alignment well (cosine < 0.7).\n",
            "\n",
            "Testing embeddings with MiniLM (generic multilingual)...\n"
          ]
        },
        {
          "output_type": "display_data",
          "data": {
            "text/plain": [
              "tokenizer_config.json:   0%|          | 0.00/480 [00:00<?, ?B/s]"
            ],
            "application/vnd.jupyter.widget-view+json": {
              "version_major": 2,
              "version_minor": 0,
              "model_id": "b8167078a8484787925856962ac117a1"
            }
          },
          "metadata": {}
        },
        {
          "output_type": "display_data",
          "data": {
            "text/plain": [
              "config.json:   0%|          | 0.00/645 [00:00<?, ?B/s]"
            ],
            "application/vnd.jupyter.widget-view+json": {
              "version_major": 2,
              "version_minor": 0,
              "model_id": "c430f2589d7b4580a9f78f1e705ca2dc"
            }
          },
          "metadata": {}
        },
        {
          "output_type": "stream",
          "name": "stderr",
          "text": [
            "Xet Storage is enabled for this repo, but the 'hf_xet' package is not installed. Falling back to regular HTTP download. For better performance, install the package with: `pip install huggingface_hub[hf_xet]` or `pip install hf_xet`\n",
            "WARNING:huggingface_hub.file_download:Xet Storage is enabled for this repo, but the 'hf_xet' package is not installed. Falling back to regular HTTP download. For better performance, install the package with: `pip install huggingface_hub[hf_xet]` or `pip install hf_xet`\n"
          ]
        },
        {
          "output_type": "display_data",
          "data": {
            "text/plain": [
              "tokenizer.json:   0%|          | 0.00/9.08M [00:00<?, ?B/s]"
            ],
            "application/vnd.jupyter.widget-view+json": {
              "version_major": 2,
              "version_minor": 0,
              "model_id": "4df78392d40b4d8c8ed496ef116d75ce"
            }
          },
          "metadata": {}
        },
        {
          "output_type": "display_data",
          "data": {
            "text/plain": [
              "special_tokens_map.json:   0%|          | 0.00/239 [00:00<?, ?B/s]"
            ],
            "application/vnd.jupyter.widget-view+json": {
              "version_major": 2,
              "version_minor": 0,
              "model_id": "690c14a8c94b48259d00b9a8ac363466"
            }
          },
          "metadata": {}
        },
        {
          "output_type": "stream",
          "name": "stderr",
          "text": [
            "Xet Storage is enabled for this repo, but the 'hf_xet' package is not installed. Falling back to regular HTTP download. For better performance, install the package with: `pip install huggingface_hub[hf_xet]` or `pip install hf_xet`\n",
            "WARNING:huggingface_hub.file_download:Xet Storage is enabled for this repo, but the 'hf_xet' package is not installed. Falling back to regular HTTP download. For better performance, install the package with: `pip install huggingface_hub[hf_xet]` or `pip install hf_xet`\n"
          ]
        },
        {
          "output_type": "display_data",
          "data": {
            "text/plain": [
              "model.safetensors:   0%|          | 0.00/471M [00:00<?, ?B/s]"
            ],
            "application/vnd.jupyter.widget-view+json": {
              "version_major": 2,
              "version_minor": 0,
              "model_id": "d7ceb914dc6042b3abfb1f9a27c26e96"
            }
          },
          "metadata": {}
        },
        {
          "output_type": "stream",
          "name": "stdout",
          "text": [
            "  Embedding shape: torch.Size([3, 384])\n",
            "  Model hidden_size: 384\n",
            "  Cosine similarity (English-Hindi): 0.9335\n",
            "  Cosine similarity (English-Hinglish): 0.9527\n",
            "  Cosine similarity (Hindi-Hinglish): 0.9471\n",
            "  Success: MiniLM (generic multilingual) captures semantic alignment (cosine > 0.7).\n"
          ]
        }
      ]
    },
    {
      "cell_type": "markdown",
      "source": [
        "#finding most relevant doc"
      ],
      "metadata": {
        "id": "eAwrOVvkMbBm"
      }
    },
    {
      "cell_type": "code",
      "source": [
        "# Define documents and query\n",
        "docs = [\n",
        "    \"The new irrigation techniques in agriculture are boosting crop yields.\",  # English\n",
        "    \"\u0928\u090f irrigation \u0915\u0947 \u0924\u0930\u0940\u0915\u0947 \u092b\u0938\u0932\u094b\u0902 \u0915\u0940 \u092a\u0948\u0926\u093e\u0935\u093e\u0930 \u092c\u0922\u093c\u093e \u0930\u0939\u0947 \u0939\u0948\u0902\u0964\",  # Hinglish\n",
        "    \"\u0916\u0947\u0924\u0940 \u092e\u0947\u0902 \u0928\u0908 \u0924\u0915\u0928\u0940\u0915\u094b\u0902 \u0938\u0947 \u092b\u0938\u0932 \u0909\u0924\u094d\u092a\u093e\u0926\u0928 \u092e\u0947\u0902 \u0935\u0943\u0926\u094d\u0927\u093f \u0939\u094b \u0930\u0939\u0940 \u0939\u0948\u0964\"  # Hindi\n",
        "]\n",
        "query = \"agriculture \u092e\u0947\u0902 best practices \u0915\u094d\u092f\u093e \u0939\u0948\u0902?\"  # Hinglish query\n",
        "\n",
        "def generate_embeddings(texts, model_name=\"sarvamai/sarvam-1\", hf_token=None):\n",
        "    \"\"\"\n",
        "    Generate embeddings for a list of texts using Sarvam AI's sarvam-1 model.\n",
        "\n",
        "    Args:\n",
        "        texts (list): List of text strings (documents or query).\n",
        "        model_name (str): Hugging Face model name (default: sarvamai/sarvam-1).\n",
        "        hf_token (str, optional): Hugging Face API token for private models.\n",
        "\n",
        "    Returns:\n",
        "        torch.Tensor: Embeddings matrix of shape (num_texts, embedding_dim).\n",
        "    \"\"\"\n",
        "    try:\n",
        "        # Load tokenizer and model\n",
        "        tokenizer = AutoTokenizer.from_pretrained(model_name, token=hf_token)\n",
        "        if tokenizer.pad_token is None:\n",
        "            tokenizer.pad_token = tokenizer.eos_token\n",
        "            print(f\"Set pad_token to eos_token: {tokenizer.pad_token}\")\n",
        "        model = AutoModel.from_pretrained(model_name, token=hf_token)\n",
        "\n",
        "        # Move model to GPU if available\n",
        "        device = torch.device(\"cuda\" if torch.cuda.is_available() else \"cpu\")\n",
        "        model = model.to(device)\n",
        "        model.eval()\n",
        "\n",
        "        # Tokenize and generate embeddings\n",
        "        inputs = tokenizer(texts, return_tensors=\"pt\", padding=True, truncation=True, max_length=512)\n",
        "        inputs = {key: val.to(device) for key, val in inputs.items()}\n",
        "\n",
        "        with torch.no_grad():\n",
        "            outputs = model(**inputs)\n",
        "            # Mean-pool token embeddings for sentence-level representation\n",
        "            embeddings = outputs.last_hidden_state.mean(dim=1)\n",
        "\n",
        "        return embeddings\n",
        "\n",
        "    except Exception as e:\n",
        "        print(f\"Error generating embeddings: {e}\")\n",
        "        return None\n",
        "\n",
        "def compute_cosine_similarity(doc_vecs, query_vec):\n",
        "    \"\"\"\n",
        "    Compute cosine similarity between document embeddings and query embedding.\n",
        "\n",
        "    Args:\n",
        "        doc_vecs (torch.Tensor): Document embeddings of shape (num_docs, embedding_dim).\n",
        "        query_vec (torch.Tensor): Query embedding of shape (1, embedding_dim).\n",
        "\n",
        "    Returns:\n",
        "        torch.Tensor: Cosine similarity scores of shape (num_docs,).\n",
        "    \"\"\"\n",
        "    # Normalize embeddings for cosine similarity\n",
        "    doc_vecs_norm = doc_vecs / torch.norm(doc_vecs, dim=1, keepdim=True)\n",
        "    query_vec_norm = query_vec / torch.norm(query_vec, dim=1, keepdim=True)\n",
        "    # Compute cosine similarity (dot product of normalized vectors)\n",
        "    scores = torch.matmul(doc_vecs_norm, query_vec_norm.T).squeeze(1)\n",
        "    return scores\n",
        "\n",
        "def main():\n",
        "    model_name = \"sarvamai/sarvam-1\"\n",
        "    hf_token = os.getenv(\"HF_TOKEN\")\n",
        "\n",
        "    print(f\"Generating embeddings using {model_name}...\")\n",
        "\n",
        "    # Generate embeddings for documents and query\n",
        "    doc_vecs = generate_embeddings(docs, model_name, hf_token)\n",
        "    query_vec = generate_embeddings([query], model_name, hf_token)\n",
        "\n",
        "    if doc_vecs is not None and query_vec is not None:\n",
        "        # Compute cosine similarity\n",
        "        scores = compute_cosine_similarity(doc_vecs, query_vec)\n",
        "\n",
        "        # Rank documents by similarity\n",
        "        best_idx = torch.argmax(scores).item()\n",
        "        sorted_indices = torch.argsort(scores, descending=True)\n",
        "\n",
        "        # Print results\n",
        "        print(f\"\\nQuery: {query}\")\n",
        "        print(\"\\nDocument relevance ranking:\")\n",
        "        for idx in sorted_indices:\n",
        "            print(f\"Doc: {docs[idx]} | Score: {scores[idx]:.4f}\")\n",
        "        print(f\"\\nMost relevant doc: {docs[best_idx]} (Score: {scores[best_idx]:.4f})\")\n",
        "    else:\n",
        "        print(\"Failed to generate embeddings.\")\n",
        "\n",
        "if __name__ == \"__main__\":\n",
        "    main()"
      ],
      "metadata": {
        "colab": {
          "base_uri": "https://localhost:8080/",
          "height": 295,
          "referenced_widgets": [
            "9603f30cb5a3421fba832fe2c31a1177",
            "94c015913605402c8b72356b10f7b4fb",
            "6ca60500981647eb801e03952f7ef85c",
            "19b3169f37cb4f618e9c4f8aa1f41921",
            "23b991014e974b00a2ed5d5c995cc905",
            "97485e7c36b64b5f9a66d5eb0c6898aa",
            "3342b038bb784b7692fabcb161c539ff",
            "5860eb6a011c49dca74d07735b297059",
            "524ddfb9ee5244bebb1051338ed6844f",
            "c2f8c7783bf7431caa715661b61ce6fe",
            "6ae472c8cb9540fba6fbf0b2218175a3",
            "c76e4a8eb6ee4039b7be38a66311876b",
            "a418994666c54fdcbab842ecfd9cdda0",
            "37c08055365b4b5e8a97143a03a3cb13",
            "9466c7e7fbfc442089e08c61651bc6d2",
            "1bc8ca66c6e54729b470025624f78928",
            "e6d2dcba1a0548a3911a515b28ec6073",
            "bb2df56055e64f55a9cb456baa455dd7",
            "ddf81cf9c0b84b49ab604d353809ba00",
            "723da8b800d14d658095790571b6e333",
            "4926f00b92ee47bf984ae12883b4f810",
            "0bbd025653ce427c88e6621970dead8d"
          ]
        },
        "id": "YMo5myA83pEr",
        "outputId": "fa8acf39-9de2-4868-9267-f24272ce67ec"
      },
      "execution_count": 2,
      "outputs": [
        {
          "output_type": "stream",
          "name": "stdout",
          "text": [
            "Generating embeddings using sarvamai/sarvam-1...\n",
            "Set pad_token to eos_token: </s>\n"
          ]
        },
        {
          "output_type": "display_data",
          "data": {
            "text/plain": [
              "Loading checkpoint shards:   0%|          | 0/2 [00:00<?, ?it/s]"
            ],
            "application/vnd.jupyter.widget-view+json": {
              "version_major": 2,
              "version_minor": 0,
              "model_id": "9603f30cb5a3421fba832fe2c31a1177"
            }
          },
          "metadata": {}
        },
        {
          "output_type": "stream",
          "name": "stdout",
          "text": [
            "Set pad_token to eos_token: </s>\n"
          ]
        },
        {
          "output_type": "display_data",
          "data": {
            "text/plain": [
              "Loading checkpoint shards:   0%|          | 0/2 [00:00<?, ?it/s]"
            ],
            "application/vnd.jupyter.widget-view+json": {
              "version_major": 2,
              "version_minor": 0,
              "model_id": "c76e4a8eb6ee4039b7be38a66311876b"
            }
          },
          "metadata": {}
        },
        {
          "output_type": "stream",
          "name": "stdout",
          "text": [
            "\n",
            "Query: agriculture \u092e\u0947\u0902 best practices \u0915\u094d\u092f\u093e \u0939\u0948\u0902?\n",
            "\n",
            "Document relevance ranking:\n",
            "Doc: The new irrigation techniques in agriculture are boosting crop yields. | Score: 0.8252\n",
            "Doc: \u0928\u090f irrigation \u0915\u0947 \u0924\u0930\u0940\u0915\u0947 \u092b\u0938\u0932\u094b\u0902 \u0915\u0940 \u092a\u0948\u0926\u093e\u0935\u093e\u0930 \u092c\u0922\u093c\u093e \u0930\u0939\u0947 \u0939\u0948\u0902\u0964 | Score: 0.8046\n",
            "Doc: \u0916\u0947\u0924\u0940 \u092e\u0947\u0902 \u0928\u0908 \u0924\u0915\u0928\u0940\u0915\u094b\u0902 \u0938\u0947 \u092b\u0938\u0932 \u0909\u0924\u094d\u092a\u093e\u0926\u0928 \u092e\u0947\u0902 \u0935\u0943\u0926\u094d\u0927\u093f \u0939\u094b \u0930\u0939\u0940 \u0939\u0948\u0964 | Score: 0.7091\n",
            "\n",
            "Most relevant doc: The new irrigation techniques in agriculture are boosting crop yields. (Score: 0.8252)\n"
          ]
        }
      ]
    },
    {
      "cell_type": "markdown",
      "source": [
        "#Checking hidden state dimensions"
      ],
      "metadata": {
        "id": "ePjj3EAmMRet"
      }
    },
    {
      "cell_type": "code",
      "source": [
        "def check_hidden_state_dimension(model_name=\"sarvamai/sarvam-1\", hf_token=None, test_texts=None):\n",
        "    \"\"\"\n",
        "    Check the hidden state dimension of a model by inspecting its configuration and embeddings.\n",
        "\n",
        "    Args:\n",
        "        model_name (str): Hugging Face model name (default: sarvamai/sarvam-1).\n",
        "        hf_token (str, optional): Hugging Face API token for private models.\n",
        "        test_texts (list, optional): List of test texts to generate embeddings. If None, uses a default text.\n",
        "\n",
        "    Returns:\n",
        "        dict: Contains 'config_hidden_size' (from model config) and 'embedding_shape' (from output).\n",
        "    \"\"\"\n",
        "    try:\n",
        "        # Set default test text if none provided\n",
        "        if test_texts is None:\n",
        "            test_texts = [\"I enjoy khana khaana and coding in Python.\"]\n",
        "\n",
        "        # Load tokenizer and model\n",
        "        tokenizer = AutoTokenizer.from_pretrained(model_name, token=hf_token)\n",
        "        if tokenizer.pad_token is None:\n",
        "            tokenizer.pad_token = tokenizer.eos_token\n",
        "            print(f\"Set pad_token to eos_token: {tokenizer.pad_token}\")\n",
        "        model = AutoModel.from_pretrained(model_name, token=hf_token)\n",
        "\n",
        "        # Get hidden size from model configuration\n",
        "        config_hidden_size = model.config.hidden_size\n",
        "        print(f\"Model configuration hidden_size: {config_hidden_size}\")\n",
        "\n",
        "        # Move model to GPU if available\n",
        "        device = torch.device(\"cuda\" if torch.cuda.is_available() else \"cpu\")\n",
        "        model = model.to(device)\n",
        "        model.eval()\n",
        "\n",
        "        # Tokenize and generate embeddings\n",
        "        inputs = tokenizer(test_texts, return_tensors=\"pt\", padding=True, truncation=True, max_length=512)\n",
        "        inputs = {key: val.to(device) for key, val in inputs.items()}\n",
        "\n",
        "        with torch.no_grad():\n",
        "            outputs = model(**inputs)\n",
        "            # Mean-pool token embeddings for sentence-level representation\n",
        "            embeddings = outputs.last_hidden_state.mean(dim=1)\n",
        "\n",
        "        # Get embedding shape\n",
        "        embedding_shape = embeddings.shape\n",
        "        print(f\"Embedding tensor shape: {embedding_shape}\")\n",
        "\n",
        "        return {\n",
        "            \"config_hidden_size\": config_hidden_size,\n",
        "            \"embedding_shape\": embedding_shape\n",
        "        }\n",
        "\n",
        "    except Exception as e:\n",
        "        print(f\"Error checking hidden state dimension: {e}\")\n",
        "        return None\n",
        "\n",
        "def main():\n",
        "    # Use your documents for testing\n",
        "    docs = [\n",
        "        \"The new irrigation techniques in agriculture are boosting crop yields.\",\n",
        "        \"\u0928\u090f irrigation \u0915\u0947 \u0924\u0930\u0940\u0915\u0947 \u092b\u0938\u0932\u094b\u0902 \u0915\u0940 \u092a\u0948\u0926\u093e\u0935\u093e\u0930 \u092c\u0922\u093c\u093e \u0930\u0939\u0947 \u0939\u0948\u0902\u0964\",\n",
        "        \"\u0916\u0947\u0924\u0940 \u092e\u0947\u0902 \u0928\u0908 \u0924\u0915\u0928\u0940\u0915\u094b\u0902 \u0938\u0947 \u092b\u0938\u0932 \u0909\u0924\u094d\u092a\u093e\u0926\u0928 \u092e\u0947\u0902 \u0935\u0943\u0926\u094d\u0927\u093f \u0939\u094b \u0930\u0939\u0940 \u0939\u0948\u0964\"\n",
        "    ]\n",
        "\n",
        "    model_name = \"sarvamai/sarvam-1\"\n",
        "    hf_token = os.getenv(\"HF_TOKEN\")\n",
        "\n",
        "    print(f\"Checking hidden state dimension for {model_name}...\")\n",
        "    result = check_hidden_state_dimension(model_name, hf_token, docs)\n",
        "\n",
        "    if result is not None:\n",
        "        print(f\"\\nResults:\")\n",
        "        print(f\"  Config hidden_size: {result['config_hidden_size']}\")\n",
        "        print(f\"  Embedding shape: {result['embedding_shape']}\")\n",
        "        if result['embedding_shape'][1] == result['config_hidden_size']:\n",
        "            print(\"  Confirmation: Embedding dimension matches config hidden_size.\")\n",
        "        else:\n",
        "            print(\"  Warning: Embedding dimension does not match config hidden_size!\")\n",
        "    else:\n",
        "        print(\"Failed to check hidden state dimension.\")\n",
        "\n",
        "if __name__ == \"__main__\":\n",
        "    main()"
      ],
      "metadata": {
        "colab": {
          "base_uri": "https://localhost:8080/",
          "height": 210,
          "referenced_widgets": [
            "e9be832e8f92454894900bffc5244346",
            "a095abba9539477281c08b4419aa33a6",
            "381a2ccaf12c4678a8632705a161ba2d",
            "9ec2de98298c47698089bb5072aedf2a",
            "e8a53c8b638a4187acc10410bb07fd7a",
            "6a93332e95734bf396bf9a77d6de4d1e",
            "7c6268ed7ce44bb08b09d9430d8d1e6b",
            "77d9a9f5ce5047bcb044c031ca17c165",
            "e74740748902450b8a299c0ee2e27f5d",
            "d669fbc792c6468db1f177b6cb4ed03f",
            "74ac3bf2e997489394194d486c3a10e5"
          ]
        },
        "id": "pfnICYQVLP7O",
        "outputId": "e5f1d9c6-ed00-4825-a227-9061843911c1"
      },
      "execution_count": 3,
      "outputs": [
        {
          "output_type": "stream",
          "name": "stdout",
          "text": [
            "Checking hidden state dimension for sarvamai/sarvam-1...\n",
            "Set pad_token to eos_token: </s>\n"
          ]
        },
        {
          "output_type": "display_data",
          "data": {
            "text/plain": [
              "Loading checkpoint shards:   0%|          | 0/2 [00:00<?, ?it/s]"
            ],
            "application/vnd.jupyter.widget-view+json": {
              "version_major": 2,
              "version_minor": 0,
              "model_id": "e9be832e8f92454894900bffc5244346"
            }
          },
          "metadata": {}
        },
        {
          "output_type": "stream",
          "name": "stdout",
          "text": [
            "Model configuration hidden_size: 2048\n",
            "Embedding tensor shape: torch.Size([3, 2048])\n",
            "\n",
            "Results:\n",
            "  Config hidden_size: 2048\n",
            "  Embedding shape: torch.Size([3, 2048])\n",
            "  Confirmation: Embedding dimension matches config hidden_size.\n"
          ]
        }
      ]
    },
    {
      "cell_type": "markdown",
      "source": [
        "#Sarvam-1 vs MuRIL"
      ],
      "metadata": {
        "id": "tuTPVWCgMFIT"
      }
    },
    {
      "cell_type": "code",
      "source": [
        "# Define test sentences\n",
        "texts = [\n",
        "    \"I love learning new languages.\",  # English\n",
        "    \"\u092e\u0948\u0902 \u0928\u0908 \u092d\u093e\u0937\u093e\u090f\u0901 \u0938\u0940\u0916\u0928\u093e \u092a\u0938\u0902\u0926 \u0915\u0930\u0924\u093e \u0939\u0942\u0901\",  # Hindi\n",
        "    \"\u092e\u0948\u0902 love learning \u0928\u0908 languages \u092c\u0939\u0941\u0924 pasand \u0915\u0930\u0924\u093e \u0939\u0942\u0901\"  # Hinglish\n",
        "]\n",
        "\n",
        "def generate_embeddings(texts, model_name=\"sarvamai/sarvam-1\", hf_token=None):\n",
        "    \"\"\"\n",
        "    Generate embeddings for a list of texts using the specified model.\n",
        "\n",
        "    Args:\n",
        "        texts (list): List of text strings (English, Hindi, Hinglish).\n",
        "        model_name (str): Hugging Face model name.\n",
        "        hf_token (str, optional): Hugging Face API token for private models.\n",
        "\n",
        "    Returns:\n",
        "        tuple: (embeddings, hidden_size) or (None, None) if error occurs.\n",
        "    \"\"\"\n",
        "    try:\n",
        "        # Load tokenizer and model\n",
        "        tokenizer = AutoTokenizer.from_pretrained(model_name, token=hf_token)\n",
        "        if \"sarvam\" in model_name and tokenizer.pad_token is None:\n",
        "            tokenizer.pad_token = tokenizer.eos_token\n",
        "            print(f\"Set pad_token to eos_token for {model_name}: {tokenizer.pad_token}\")\n",
        "        model = AutoModel.from_pretrained(model_name, token=hf_token)\n",
        "\n",
        "        # Get hidden size from model configuration\n",
        "        hidden_size = model.config.hidden_size\n",
        "\n",
        "        # Move model to GPU if available\n",
        "        device = torch.device(\"cuda\" if torch.cuda.is_available() else \"cpu\")\n",
        "        model = model.to(device)\n",
        "        model.eval()\n",
        "\n",
        "        # Tokenize and generate embeddings\n",
        "        inputs = tokenizer(texts, return_tensors=\"pt\", padding=True, truncation=True, max_length=512)\n",
        "        inputs = {key: val.to(device) for key, val in inputs.items()}\n",
        "\n",
        "        with torch.no_grad():\n",
        "            outputs = model(**inputs)\n",
        "            # Mean-pool token embeddings for sentence-level representation\n",
        "            embeddings = outputs.last_hidden_state.mean(dim=1)\n",
        "\n",
        "        return embeddings, hidden_size\n",
        "\n",
        "    except Exception as e:\n",
        "        print(f\"Error generating embeddings for {model_name}: {e}\")\n",
        "        return None, None\n",
        "\n",
        "def compute_cosine_similarities(embeddings):\n",
        "    \"\"\"\n",
        "    Compute cosine similarities between embeddings of English, Hindi, and Hinglish sentences.\n",
        "\n",
        "    Args:\n",
        "        embeddings (torch.Tensor): Embeddings matrix of shape (num_texts, hidden_size).\n",
        "\n",
        "    Returns:\n",
        "        dict: Cosine similarity scores for English-Hindi, English-Hinglish, Hindi-Hinglish.\n",
        "    \"\"\"\n",
        "    cos_en_hi = F.cosine_similarity(embeddings[0], embeddings[1], dim=0).item()\n",
        "    cos_en_hing = F.cosine_similarity(embeddings[0], embeddings[2], dim=0).item()\n",
        "    cos_hi_hing = F.cosine_similarity(embeddings[1], embeddings[2], dim=0).item()\n",
        "\n",
        "    return {\n",
        "        \"cosine_sim_en_hi\": cos_en_hi,\n",
        "        \"cosine_sim_en_hing\": cos_en_hing,\n",
        "        \"cosine_sim_hi_hing\": cos_hi_hing\n",
        "    }\n",
        "\n",
        "def main():\n",
        "    models = [\n",
        "        (\"sarvamai/sarvam-1\", \"Sarvam-1 (Indic-tuned multilingual)\"),\n",
        "        (\"google/muril-base-cased\", \"MuRIL (Indian languages multilingual)\")\n",
        "    ]\n",
        "    hf_token = os.getenv(\"HF_TOKEN\")\n",
        "\n",
        "    for model_name, model_desc in models:\n",
        "        print(f\"\\nTesting embeddings with {model_desc}...\")\n",
        "        embeddings, hidden_size = generate_embeddings(texts, model_name, hf_token)\n",
        "\n",
        "        if embeddings is not None:\n",
        "            # Confirm embedding shape and hidden size\n",
        "            print(f\"  Embedding shape: {embeddings.shape}\")\n",
        "            print(f\"  Model hidden_size: {hidden_size}\")\n",
        "\n",
        "            # Compute cosine similarities\n",
        "            similarities = compute_cosine_similarities(embeddings)\n",
        "\n",
        "            # Print results\n",
        "            print(f\"  Cosine similarity (English-Hindi): {similarities['cosine_sim_en_hi']:.4f}\")\n",
        "            print(f\"  Cosine similarity (English-Hinglish): {similarities['cosine_sim_en_hing']:.4f}\")\n",
        "            print(f\"  Cosine similarity (Hindi-Hinglish): {similarities['cosine_sim_hi_hing']:.4f}\")\n",
        "\n",
        "            # Interpret results\n",
        "            if similarities['cosine_sim_en_hi'] > 0.7 and similarities['cosine_sim_en_hing'] > 0.7:\n",
        "                print(f\"  Success: {model_desc} captures semantic alignment (cosine > 0.7).\")\n",
        "            else:\n",
        "                print(f\"  Warning: {model_desc} may not capture semantic alignment well (cosine < 0.7).\")\n",
        "            embeddings_np = embeddings.cpu().numpy()\n",
        "            pca = PCA(n_components=2)\n",
        "            reduced = pca.fit_transform(embeddings_np)\n",
        "            plt.scatter(reduced[:, 0], reduced[:, 1], label=['English', 'Hindi', 'Hinglish'])\n",
        "            plt.title(f\"PCA of {model_desc} Embeddings\")\n",
        "            plt.legend()\n",
        "            plt.show()\n",
        "        else:\n",
        "            print(f\"  Failed to generate embeddings for {model_desc}.\")\n",
        "\n",
        "if __name__ == \"__main__\":\n",
        "    main()"
      ],
      "metadata": {
        "colab": {
          "base_uri": "https://localhost:8080/",
          "height": 1000,
          "referenced_widgets": [
            "7d3ff517ace24d5eb5fe220706b8b1ab",
            "95dbd7bbbec84279a307595e6f387544",
            "a5d5fcbb492146a1aa286dd3ceaa903f",
            "3b4b41e9b32348c197c0df9c6b30ea41",
            "dbd34dd1cdad43dc89b51140cf0e3cae",
            "baad0524099d4f7d8306621e53830492",
            "2ea318559a064535982c82c41cb9ad3f",
            "99d5cce7306d4890ad891fa989dc7554",
            "7ebb349fde464fb981f6ea4fdd08c8de",
            "c03367054c064841b261a3c60f2bcd73",
            "db7e914a7f734a038d6232f551ea1c29"
          ]
        },
        "id": "CbDc2GgpNP7n",
        "outputId": "514d8953-5d00-4af4-a4a8-7c58445527c1"
      },
      "execution_count": 4,
      "outputs": [
        {
          "output_type": "stream",
          "name": "stdout",
          "text": [
            "\n",
            "Testing embeddings with Sarvam-1 (Indic-tuned multilingual)...\n",
            "Set pad_token to eos_token for sarvamai/sarvam-1: </s>\n"
          ]
        },
        {
          "output_type": "display_data",
          "data": {
            "text/plain": [
              "Loading checkpoint shards:   0%|          | 0/2 [00:00<?, ?it/s]"
            ],
            "application/vnd.jupyter.widget-view+json": {
              "version_major": 2,
              "version_minor": 0,
              "model_id": "7d3ff517ace24d5eb5fe220706b8b1ab"
            }
          },
          "metadata": {}
        },
        {
          "output_type": "stream",
          "name": "stdout",
          "text": [
            "  Embedding shape: torch.Size([3, 2048])\n",
            "  Model hidden_size: 2048\n",
            "  Cosine similarity (English-Hindi): 0.5653\n",
            "  Cosine similarity (English-Hinglish): 0.8144\n",
            "  Cosine similarity (Hindi-Hinglish): 0.9105\n",
            "  Warning: Sarvam-1 (Indic-tuned multilingual) may not capture semantic alignment well (cosine < 0.7).\n"
          ]
        },
        {
          "output_type": "display_data",
          "data": {
            "text/plain": [
              "<Figure size 640x480 with 1 Axes>"
            ],
            "image/png": "[encoded data removed]"
          },
          "metadata": {}
        },
        {
          "output_type": "stream",
          "name": "stdout",
          "text": [
            "\n",
            "Testing embeddings with MuRIL (Indian languages multilingual)...\n",
            "  Embedding shape: torch.Size([3, 768])\n",
            "  Model hidden_size: 768\n",
            "  Cosine similarity (English-Hindi): 0.9943\n",
            "  Cosine similarity (English-Hinglish): 0.9940\n",
            "  Cosine similarity (Hindi-Hinglish): 0.9960\n",
            "  Success: MuRIL (Indian languages multilingual) captures semantic alignment (cosine > 0.7).\n"
          ]
        },
        {
          "output_type": "display_data",
          "data": {
            "text/plain": [
              "<Figure size 640x480 with 1 Axes>"
            ],
            "image/png": "[encoded data removed]"
          },
          "metadata": {}
        }
      ]
    },
    {
      "cell_type": "code",
      "source": [
        "# Define Hinglish test sentence\n",
        "hinglish_sentence = \"\u092e\u0948\u0902 love learning \u0928\u0908 languages \u092c\u0939\u0941\u0924 pasand \u0915\u0930\u0924\u093e \u0939\u0942\u0901\"\n",
        "\n",
        "def compare_tokenization(sentence, models):\n",
        "    \"\"\"\n",
        "    Compare tokenization of a sentence across multiple models.\n",
        "\n",
        "    Args:\n",
        "        sentence (str): Input sentence (e.g., Hinglish).\n",
        "        models (list): List of (model_name, model_desc) tuples.\n",
        "\n",
        "    Returns:\n",
        "        dict: Tokenization results with model names, token counts, and tokenized outputs.\n",
        "    \"\"\"\n",
        "    results = {}\n",
        "    for model_name, model_desc in models:\n",
        "        try:\n",
        "            # Load tokenizer\n",
        "            tokenizer = AutoTokenizer.from_pretrained(model_name)\n",
        "\n",
        "            # Tokenize the sentence\n",
        "            tokens = tokenizer.tokenize(sentence)\n",
        "            token_count = len(tokens)\n",
        "            token_ids = tokenizer.encode(sentence, add_special_tokens=True)\n",
        "\n",
        "            # Convert token IDs back to tokens for display\n",
        "            decoded_tokens = [tokenizer.convert_ids_to_tokens(id) for id in token_ids]\n",
        "\n",
        "            results[model_name] = {\n",
        "                \"description\": model_desc,\n",
        "                \"token_count\": token_count,\n",
        "                \"tokens\": tokens,\n",
        "                \"decoded_tokens_with_special\": decoded_tokens\n",
        "            }\n",
        "\n",
        "        except Exception as e:\n",
        "            print(f\"Error tokenizing with {model_desc}: {e}\")\n",
        "            results[model_name] = {\"error\": str(e)}\n",
        "\n",
        "    return results\n",
        "\n",
        "def main():\n",
        "    models = [\n",
        "        (\"sarvamai/sarvam-1\", \"Sarvam-1 (Indic-tuned multilingual)\"),\n",
        "        (\"bert-base-multilingual-cased\", \"mBERT (generic multilingual)\"),\n",
        "        (\"xlm-roberta-base\", \"XLM-R (generic multilingual)\")\n",
        "    ]\n",
        "\n",
        "    print(f\"Comparing tokenization for sentence: '{hinglish_sentence}'\")\n",
        "    results = compare_tokenization(hinglish_sentence, models)\n",
        "\n",
        "    for model_name, result in results.items():\n",
        "        print(f\"\\nModel: {result['description']}\")\n",
        "        if \"error\" in result:\n",
        "            print(f\"  Error: {result['error']}\")\n",
        "        else:\n",
        "            print(f\"  Token count: {result['token_count']}\")\n",
        "            print(f\"  Tokens: {result['tokens']}\")\n",
        "            print(f\"  Decoded tokens (with special tokens): {result['decoded_tokens_with_special']}\")\n",
        "\n",
        "if __name__ == \"__main__\":\n",
        "    main()"
      ],
      "metadata": {
        "colab": {
          "base_uri": "https://localhost:8080/",
          "height": 559,
          "referenced_widgets": [
            "13ea750109604ea7bd7585b976fd5277",
            "4d473167800947caaef07520d100434b",
            "049aa12c8aee4fc2913b74d479791d43",
            "336d69f465b84ef8825c0a5dc6b6560d",
            "e80662b3f7e140329a75870d48b59bde",
            "dabe2fe803f9461c9fc2a5037e292e56",
            "bb8399dd961e414b865f4183cbdadaaa",
            "bfff797a17d24f2f9860506b188e201e",
            "4fbcd56d677e43f4951588ce778160cb",
            "ad23d778abe34389a55144cc68c191d2",
            "bac49d34ebb143c79efd594d70b141a5",
            "05ee3815d919463891f27f827e2c926c",
            "e55b0b1630154f45a080f0567996b2ac",
            "68a0e4afb18a46878474c79f6ce5217b",
            "8aa3beb8d8a84353bfee14af09d6bda0",
            "3ec3852047bc46b4a89bd9573d5d76c4",
            "7b0722e4fb7140168a52120e5d39d011",
            "90de487015e940e79e9c5cdedbd2e4b0",
            "2adc4ec081d14545ba1ac68722af9ad2",
            "20c3724f42154b4783c8a142632beff2",
            "791017b9ef58480d9bc32afadd534c13",
            "c5405407e1604d3482583360e6e2bb17",
            "1adb321758ce4aac835152bdc2b238d4",
            "aa6b1907b7ba468bacc5e54a41624fd5",
            "af93b7026a4a4cfd8acf3ea626f20be0",
            "4d9efc73c0a547d19cff8f0bb5cbb6b6",
            "c6d248245de04deb89ea820e26ff975a",
            "2801723f7ba545fe8f6b604ad2baede7",
            "3d189a5a6acf4c45a01c3ed27754bbb7",
            "be848ba3d1ce4f8e8a9482d5619af545",
            "f92944ea2369478389eaeecabd5e13d0",
            "1fc56e014cd14cd0b4e3beb117dfb859",
            "23f0e66a089e4bd4b858685fbb34abea",
            "1135333c1668484a870a70275ad8dbef",
            "b680270db9024ad19c121c57bb01df84",
            "828dc1fce18745fe874c2f5b3887d18e",
            "53b3e84a80244d2db01089a9547da096",
            "ae7809b4d03e406c9ee27ed1ea5ddbf5",
            "0e923e9917e54318a479d3c003b8b7c9",
            "b85fc98ad4d54fa3aeabd3c482fc3367",
            "b262f67c81804caf849152a0d1b09b65",
            "be32b171b7ec4affbf2f90e3dd626e3d",
            "85a95e6a78424a0883a1e999cff366cb",
            "3e3f694f3cb646abba063c89bde6fc42",
            "b299064b4cb74bcd98fd571969d0a799",
            "160c20a1b67d406f935eafcfb1b87004",
            "c4912d4a351445f59c4de165183e0c27",
            "d0138a6955d942d4a63e3488d3c7358e",
            "64f6cf24b9e248ad891dd282cb1ca69d",
            "43214b028ec74f2d911bb3645826da84",
            "58a93a3bea75482e95bc4c1f9664e2cb",
            "b01b5cab1e7946078887b7f4c75dd93a",
            "2a067f45ba884b1cbfd7faecfff78302",
            "98793845e291485ca1515d5b2640621c",
            "c91e6643777d4ddab0623e24c26903f6",
            "af3d60a17af24a94863756183fd257c4",
            "b9a7eb997b014e7eb2c6cc3e91bdbde7",
            "ab7f48c5bf234ec681a26aacc0747050",
            "9f24ddb51ebb436c96f5f960960b9704",
            "b3233cc7db4e4e97be4d59ce69a2fcc8",
            "c92d9c7869664beda26127b715381f63",
            "a113807635c540ef8f2d58690149cae5",
            "92e8a44bea6146e4b57d6c4a5b3fab06",
            "52d3a2089c8f43a9831facbe76affa18",
            "d094388ba5fb4e4d98fcb96e412a5135",
            "a34093ebc8d4482e812fc03797422ba3",
            "549320eeaa8f424a90e8ce94c7470341",
            "b81006860b5b40fdbb7e8d9ba34ffe62",
            "7089a4741f18436d96a98a1887ad94af",
            "251e1eccae3e4b07991562fa8b7163d3",
            "6d6f2289920949ada40d2ca057b87e0f",
            "85ab5fe1fca247eeb92557eaae1fb1ab",
            "f06a0fa5702640e9bf4110dd4a748a93",
            "ab492c84292c47d394425dfce0b41cf6",
            "3feac15d586741598448ec6a6c491f2e",
            "cff1a389609c498b9215d265f24cb3bd",
            "7032682cf34349fd8222e59886bb0d09",
            "5f113bc29f8f4d18955447e0f716b9ee",
            "ef7ba1bdda4841b5b7e8de65447e1cc0",
            "e035e366774546eb9ff709f81a4c675f",
            "672b31e8eddf4dd08635af045ee11a36",
            "7cb1329bf5a74a4595c30e3df24f2261",
            "ddbd351c8c31445ebd9a4e0f38a0d3fb",
            "97b88887a75c4383abc00ff4196be0d4",
            "3c09e26fda1b46ae823159266f7d3b88",
            "ae202df5aa7a4fdc82b87f596ef86c25",
            "9c99233a04e14e118c9372b4e418d0a9",
            "056c0363ced7462ab7f6447fbf7e25cd"
          ]
        },
        "id": "hpxPDuwlVF1b",
        "outputId": "2dc27b09-ceba-4258-8365-fe6278f5bef3"
      },
      "execution_count": 5,
      "outputs": [
        {
          "output_type": "stream",
          "name": "stdout",
          "text": [
            "Comparing tokenization for sentence: '\u092e\u0948\u0902 love learning \u0928\u0908 languages \u092c\u0939\u0941\u0924 pasand \u0915\u0930\u0924\u093e \u0939\u0942\u0901'\n"
          ]
        },
        {
          "output_type": "display_data",
          "data": {
            "text/plain": [
              "tokenizer_config.json:   0%|          | 0.00/49.0 [00:00<?, ?B/s]"
            ],
            "application/vnd.jupyter.widget-view+json": {
              "version_major": 2,
              "version_minor": 0,
              "model_id": "13ea750109604ea7bd7585b976fd5277"
            }
          },
          "metadata": {}
        },
        {
          "output_type": "display_data",
          "data": {
            "text/plain": [
              "config.json:   0%|          | 0.00/625 [00:00<?, ?B/s]"
            ],
            "application/vnd.jupyter.widget-view+json": {
              "version_major": 2,
              "version_minor": 0,
              "model_id": "05ee3815d919463891f27f827e2c926c"
            }
          },
          "metadata": {}
        },
        {
          "output_type": "display_data",
          "data": {
            "text/plain": [
              "vocab.txt:   0%|          | 0.00/996k [00:00<?, ?B/s]"
            ],
            "application/vnd.jupyter.widget-view+json": {
              "version_major": 2,
              "version_minor": 0,
              "model_id": "1adb321758ce4aac835152bdc2b238d4"
            }
          },
          "metadata": {}
        },
        {
          "output_type": "display_data",
          "data": {
            "text/plain": [
              "tokenizer.json:   0%|          | 0.00/1.96M [00:00<?, ?B/s]"
            ],
            "application/vnd.jupyter.widget-view+json": {
              "version_major": 2,
              "version_minor": 0,
              "model_id": "1135333c1668484a870a70275ad8dbef"
            }
          },
          "metadata": {}
        },
        {
          "output_type": "display_data",
          "data": {
            "text/plain": [
              "tokenizer_config.json:   0%|          | 0.00/25.0 [00:00<?, ?B/s]"
            ],
            "application/vnd.jupyter.widget-view+json": {
              "version_major": 2,
              "version_minor": 0,
              "model_id": "b299064b4cb74bcd98fd571969d0a799"
            }
          },
          "metadata": {}
        },
        {
          "output_type": "display_data",
          "data": {
            "text/plain": [
              "config.json:   0%|          | 0.00/615 [00:00<?, ?B/s]"
            ],
            "application/vnd.jupyter.widget-view+json": {
              "version_major": 2,
              "version_minor": 0,
              "model_id": "af3d60a17af24a94863756183fd257c4"
            }
          },
          "metadata": {}
        },
        {
          "output_type": "display_data",
          "data": {
            "text/plain": [
              "sentencepiece.bpe.model:   0%|          | 0.00/5.07M [00:00<?, ?B/s]"
            ],
            "application/vnd.jupyter.widget-view+json": {
              "version_major": 2,
              "version_minor": 0,
              "model_id": "549320eeaa8f424a90e8ce94c7470341"
            }
          },
          "metadata": {}
        },
        {
          "output_type": "display_data",
          "data": {
            "text/plain": [
              "tokenizer.json:   0%|          | 0.00/9.10M [00:00<?, ?B/s]"
            ],
            "application/vnd.jupyter.widget-view+json": {
              "version_major": 2,
              "version_minor": 0,
              "model_id": "5f113bc29f8f4d18955447e0f716b9ee"
            }
          },
          "metadata": {}
        },
        {
          "output_type": "stream",
          "name": "stdout",
          "text": [
            "\n",
            "Model: Sarvam-1 (Indic-tuned multilingual)\n",
            "  Token count: 11\n",
            "  Tokens: ['\u2581\u092e\u0948\u0902', '\u2581love', '\u2581learning', '\u2581\u0928\u0908', '\u2581languages', '\u2581\u092c\u0939\u0941\u0924', '\u2581p', 'as', 'and', '\u2581\u0915\u0930\u0924\u093e', '\u2581\u0939\u0942\u0901']\n",
            "  Decoded tokens (with special tokens): ['<s>', '\u2581\u092e\u0948\u0902', '\u2581love', '\u2581learning', '\u2581\u0928\u0908', '\u2581languages', '\u2581\u092c\u0939\u0941\u0924', '\u2581p', 'as', 'and', '\u2581\u0915\u0930\u0924\u093e', '\u2581\u0939\u0942\u0901']\n",
            "\n",
            "Model: mBERT (generic multilingual)\n",
            "  Token count: 13\n",
            "  Tokens: ['\u092e', '##\u0948\u0902', 'love', 'learning', '\u0928\u0908', 'languages', '\u092c\u0939\u0941\u0924', 'pasa', '##nd', '\u0915\u0930\u0924\u093e', '\u0939', '##\u0942', '##\u0901']\n",
            "  Decoded tokens (with special tokens): ['[CLS]', '\u092e', '##\u0948\u0902', 'love', 'learning', '\u0928\u0908', 'languages', '\u092c\u0939\u0941\u0924', 'pasa', '##nd', '\u0915\u0930\u0924\u093e', '\u0939', '##\u0942', '##\u0901', '[SEP]']\n",
            "\n",
            "Model: XLM-R (generic multilingual)\n",
            "  Token count: 11\n",
            "  Tokens: ['\u2581\u092e\u0948\u0902', '\u2581love', '\u2581learning', '\u2581\u0928\u0908', '\u2581language', 's', '\u2581\u092c\u0939\u0941\u0924', '\u2581pas', 'and', '\u2581\u0915\u0930\u0924\u093e', '\u2581\u0939\u0942\u0901']\n",
            "  Decoded tokens (with special tokens): ['<s>', '\u2581\u092e\u0948\u0902', '\u2581love', '\u2581learning', '\u2581\u0928\u0908', '\u2581language', 's', '\u2581\u092c\u0939\u0941\u0924', '\u2581pas', 'and', '\u2581\u0915\u0930\u0924\u093e', '\u2581\u0939\u0942\u0901', '</s>']\n"
          ]
        }
      ]
    },
    {
      "cell_type": "code",
      "source": [
        "complex_sentence = \"\u092e\u0948\u0902 \u0906\u091c office \u092e\u0947\u0902 \u0915\u093e\u092e \u0915\u0930\u0924\u093e \u0939\u0942\u0901, Tamil \u092e\u0947\u0902 \u0baa\u0bc7\u0b9a\u0bc1\u0b95\u0bbf\u0bb1\u0bc7\u0ba9\u0bcd (pesukiren), \u0914\u0930 \u092b\u093f\u0930 English movies \u0926\u0947\u0916\u0924\u093e \u0939\u0942\u0901\u0964\""
      ],
      "metadata": {
        "id": "pcnhsKCvWemT"
      },
      "execution_count": null,
      "outputs": []
    },
    {
      "cell_type": "code",
      "source": [
        "# Define Hinglish test sentence\n",
        "hinglish_sentence = \"Main enjoy \u0a15\u0a30\u0a26\u0a3e \u0939\u0942\u0901 watching movies with my Punjabi friends on weekends.\"\n",
        "\n",
        "def compare_tokenization(sentence, models):\n",
        "    \"\"\"\n",
        "    Compare tokenization of a sentence across multiple models.\n",
        "\n",
        "    Args:\n",
        "        sentence (str): Input sentence (e.g., Hinglish).\n",
        "        models (list): List of (model_name, model_desc) tuples.\n",
        "\n",
        "    Returns:\n",
        "        dict: Tokenization results with model names, token counts, and tokenized outputs.\n",
        "    \"\"\"\n",
        "    results = {}\n",
        "    for model_name, model_desc in models:\n",
        "        try:\n",
        "            # Load tokenizer\n",
        "            tokenizer = AutoTokenizer.from_pretrained(model_name)\n",
        "\n",
        "            # Tokenize the sentence\n",
        "            tokens = tokenizer.tokenize(sentence)\n",
        "            token_count = len(tokens)\n",
        "            token_ids = tokenizer.encode(sentence, add_special_tokens=True)\n",
        "\n",
        "            # Convert token IDs back to tokens for display\n",
        "            decoded_tokens = [tokenizer.convert_ids_to_tokens(id) for id in token_ids]\n",
        "\n",
        "            results[model_name] = {\n",
        "                \"description\": model_desc,\n",
        "                \"token_count\": token_count,\n",
        "                \"tokens\": tokens,\n",
        "                \"decoded_tokens_with_special\": decoded_tokens\n",
        "            }\n",
        "\n",
        "        except Exception as e:\n",
        "            print(f\"Error tokenizing with {model_desc}: {e}\")\n",
        "            results[model_name] = {\"error\": str(e)}\n",
        "\n",
        "    return results\n",
        "\n",
        "def main():\n",
        "    models = [\n",
        "        (\"sarvamai/sarvam-1\", \"Sarvam-1 (Indic-tuned multilingual)\"),\n",
        "        (\"bert-base-multilingual-cased\", \"mBERT (generic multilingual)\"),\n",
        "        (\"xlm-roberta-base\", \"XLM-R (generic multilingual)\")\n",
        "    ]\n",
        "\n",
        "    print(f\"Comparing tokenization for sentence: '{hinglish_sentence}'\")\n",
        "    results = compare_tokenization(hinglish_sentence, models)\n",
        "\n",
        "    for model_name, result in results.items():\n",
        "        print(f\"\\nModel: {result['description']}\")\n",
        "        if \"error\" in result:\n",
        "            print(f\"  Error: {result['error']}\")\n",
        "        else:\n",
        "            print(f\"  Token count: {result['token_count']}\")\n",
        "            print(f\"  Tokens: {result['tokens']}\")\n",
        "            print(f\"  Decoded tokens (with special tokens): {result['decoded_tokens_with_special']}\")\n",
        "\n",
        "if __name__ == \"__main__\":\n",
        "    main()"
      ],
      "metadata": {
        "colab": {
          "base_uri": "https://localhost:8080/"
        },
        "id": "RlLa1nRMYANm",
        "outputId": "f20788ca-f41f-4956-a4d3-b47fa34e1d72"
      },
      "execution_count": 7,
      "outputs": [
        {
          "output_type": "stream",
          "name": "stdout",
          "text": [
            "Comparing tokenization for sentence: 'Main enjoy \u0a15\u0a30\u0a26\u0a3e \u0939\u0942\u0901 watching movies with my Punjabi friends on weekends.'\n",
            "\n",
            "Model: Sarvam-1 (Indic-tuned multilingual)\n",
            "  Token count: 17\n",
            "  Tokens: ['\u2581Main', '\u2581enjoy', '\u2581\u0a15\u0a30\u0a26\u0a3e', '\u2581\u0939\u0942\u0901', '\u2581watching', '\u2581movies', '\u2581with', '\u2581my', '\u2581P', 'un', 'j', 'abi', '\u2581friends', '\u2581on', '\u2581week', 'ends', '.']\n",
            "  Decoded tokens (with special tokens): ['<s>', '\u2581Main', '\u2581enjoy', '\u2581\u0a15\u0a30\u0a26\u0a3e', '\u2581\u0939\u0942\u0901', '\u2581watching', '\u2581movies', '\u2581with', '\u2581my', '\u2581P', 'un', 'j', 'abi', '\u2581friends', '\u2581on', '\u2581week', 'ends', '.']\n",
            "\n",
            "Model: mBERT (generic multilingual)\n",
            "  Token count: 16\n",
            "  Tokens: ['Main', 'enjoy', '\u0a15\u0a30\u0a26\u0a3e', '\u0939', '##\u0942', '##\u0901', 'watching', 'movies', 'with', 'my', 'Punjabi', 'friends', 'on', 'weekend', '##s', '.']\n",
            "  Decoded tokens (with special tokens): ['[CLS]', 'Main', 'enjoy', '\u0a15\u0a30\u0a26\u0a3e', '\u0939', '##\u0942', '##\u0901', 'watching', 'movies', 'with', 'my', 'Punjabi', 'friends', 'on', 'weekend', '##s', '.', '[SEP]']\n",
            "\n",
            "Model: XLM-R (generic multilingual)\n",
            "  Token count: 14\n",
            "  Tokens: ['\u2581Main', '\u2581enjoy', '\u2581\u0a15\u0a30\u0a26\u0a3e', '\u2581\u0939\u0942\u0901', '\u2581watching', '\u2581movies', '\u2581with', '\u2581my', '\u2581Punjabi', '\u2581friends', '\u2581on', '\u2581weekend', 's', '.']\n",
            "  Decoded tokens (with special tokens): ['<s>', '\u2581Main', '\u2581enjoy', '\u2581\u0a15\u0a30\u0a26\u0a3e', '\u2581\u0939\u0942\u0901', '\u2581watching', '\u2581movies', '\u2581with', '\u2581my', '\u2581Punjabi', '\u2581friends', '\u2581on', '\u2581weekend', 's', '.', '</s>']\n"
          ]
        }
      ]
    },
    {
      "cell_type": "code",
      "source": [],
      "metadata": {
        "id": "pxQP43uBYBqQ"
      },
      "execution_count": null,
      "outputs": []
    }
  ]
}